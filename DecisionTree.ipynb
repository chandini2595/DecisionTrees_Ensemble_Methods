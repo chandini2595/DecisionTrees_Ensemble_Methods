{
  "nbformat": 4,
  "nbformat_minor": 0,
  "metadata": {
    "colab": {
      "provenance": [],
      "authorship_tag": "ABX9TyPx8VKjKgGNHnC+R39MLipW",
      "include_colab_link": true
    },
    "kernelspec": {
      "name": "python3",
      "display_name": "Python 3"
    },
    "language_info": {
      "name": "python"
    }
  },
  "cells": [
    {
      "cell_type": "markdown",
      "metadata": {
        "id": "view-in-github",
        "colab_type": "text"
      },
      "source": [
        "<a href=\"https://colab.research.google.com/github/chandini2595/DecisionTrees_Ensemble_Methods/blob/main/DecisionTree.ipynb\" target=\"_parent\"><img src=\"https://colab.research.google.com/assets/colab-badge.svg\" alt=\"Open In Colab\"/></a>"
      ]
    },
    {
      "cell_type": "code",
      "execution_count": 1,
      "metadata": {
        "id": "IR_uGXPAeHhy"
      },
      "outputs": [],
      "source": [
        "import numpy as np\n",
        "from collections import Counter"
      ]
    },
    {
      "cell_type": "code",
      "source": [
        "def gini_impurity(y):\n",
        "    counts = np.bincount(y)\n",
        "    probabilities = counts / len(y)\n",
        "    return 1 - np.sum(probabilities ** 2)"
      ],
      "metadata": {
        "id": "d98AtYHIeJIG"
      },
      "execution_count": 2,
      "outputs": []
    },
    {
      "cell_type": "code",
      "source": [
        "def entropy(y):\n",
        "    counts = np.bincount(y)\n",
        "    probabilities = counts / len(y)\n",
        "    return -np.sum([p * np.log2(p) for p in probabilities if p > 0])"
      ],
      "metadata": {
        "id": "qaK_-1gUeKuq"
      },
      "execution_count": 3,
      "outputs": []
    },
    {
      "cell_type": "code",
      "source": [
        "def information_gain(y, y_left, y_right, impurity_func):\n",
        "    p = len(y_left) / len(y)\n",
        "    return impurity_func(y) - p * impurity_func(y_left) - (1 - p) * impurity_func(y_right)"
      ],
      "metadata": {
        "id": "8LJAarMeeMDJ"
      },
      "execution_count": 4,
      "outputs": []
    },
    {
      "cell_type": "code",
      "source": [
        "def split_dataset(X, y, feature_index, threshold):\n",
        "    left_indices = X[:, feature_index] <= threshold\n",
        "    right_indices = X[:, feature_index] > threshold\n",
        "    return X[left_indices], X[right_indices], y[left_indices], y[right_indices]"
      ],
      "metadata": {
        "id": "XR74l2bOeNg6"
      },
      "execution_count": 5,
      "outputs": []
    },
    {
      "cell_type": "code",
      "source": [
        "def find_best_split(X, y, impurity_func):\n",
        "    best_gain = -1\n",
        "    best_split = None\n",
        "    n_features = X.shape[1]\n",
        "\n",
        "    for feature_index in range(n_features):\n",
        "        thresholds = np.unique(X[:, feature_index])\n",
        "        for threshold in thresholds:\n",
        "            X_left, X_right, y_left, y_right = split_dataset(X, y, feature_index, threshold)\n",
        "            if len(y_left) == 0 or len(y_right) == 0:\n",
        "                continue\n",
        "            gain = information_gain(y, y_left, y_right, impurity_func)\n",
        "            if gain > best_gain:\n",
        "                best_gain = gain\n",
        "                best_split = (feature_index, threshold)\n",
        "    return best_split"
      ],
      "metadata": {
        "id": "4uH3y9RAePUf"
      },
      "execution_count": 6,
      "outputs": []
    },
    {
      "cell_type": "code",
      "source": [
        "class DecisionTree:\n",
        "    def __init__(self, max_depth=None, min_samples_split=2, impurity_func=gini_impurity):\n",
        "        self.max_depth = max_depth\n",
        "        self.min_samples_split = min_samples_split\n",
        "        self.impurity_func = impurity_func\n",
        "        self.tree = None\n",
        "\n",
        "    def fit(self, X, y, depth=0):\n",
        "        if depth == self.max_depth or len(y) < self.min_samples_split or len(np.unique(y)) == 1:\n",
        "            return Counter(y).most_common(1)[0][0]\n",
        "\n",
        "        feature_index, threshold = find_best_split(X, y, self.impurity_func)\n",
        "        if feature_index is None:\n",
        "            return Counter(y).most_common(1)[0][0]\n",
        "\n",
        "        X_left, X_right, y_left, y_right = split_dataset(X, y, feature_index, threshold)\n",
        "        self.tree = {\n",
        "            \"feature_index\": feature_index,\n",
        "            \"threshold\": threshold,\n",
        "            \"left\": self.fit(X_left, y_left, depth + 1),\n",
        "            \"right\": self.fit(X_right, y_right, depth + 1)\n",
        "        }\n",
        "        return self.tree\n",
        "\n",
        "    def predict_single(self, x, tree):\n",
        "        if isinstance(tree, dict):\n",
        "            if x[tree[\"feature_index\"]] <= tree[\"threshold\"]:\n",
        "                return self.predict_single(x, tree[\"left\"])\n",
        "            else:\n",
        "                return self.predict_single(x, tree[\"right\"])\n",
        "        return tree\n",
        "\n",
        "    def predict(self, X):\n",
        "        return np.array([self.predict_single(x, self.tree) for x in X])"
      ],
      "metadata": {
        "id": "OOZ_kpMKeQ1w"
      },
      "execution_count": 7,
      "outputs": []
    },
    {
      "cell_type": "code",
      "source": [
        "from sklearn.datasets import load_iris\n",
        "from sklearn.model_selection import train_test_split\n",
        "from sklearn.metrics import accuracy_score\n",
        "\n",
        "# Load dataset\n",
        "data = load_iris()\n",
        "X, y = data.data, data.target\n",
        "\n",
        "# Split data\n",
        "X_train, X_test, y_train, y_test = train_test_split(X, y, test_size=0.2, random_state=42)\n",
        "\n",
        "# Train Decision Tree\n",
        "tree = DecisionTree(max_depth=5)\n",
        "tree.fit(X_train, y_train)\n",
        "\n",
        "# Predict\n",
        "y_pred = tree.predict(X_test)\n",
        "\n",
        "# Evaluate\n",
        "print(\"Accuracy:\", accuracy_score(y_test, y_pred))"
      ],
      "metadata": {
        "colab": {
          "base_uri": "https://localhost:8080/"
        },
        "id": "f6_4LOZDeUTb",
        "outputId": "4e2e0dee-615a-4156-b9c8-414fd2ebb65e"
      },
      "execution_count": 8,
      "outputs": [
        {
          "output_type": "stream",
          "name": "stdout",
          "text": [
            "Accuracy: 1.0\n"
          ]
        }
      ]
    },
    {
      "cell_type": "code",
      "source": [
        "def print_tree(tree, depth=0):\n",
        "    if isinstance(tree, dict):\n",
        "        print(f\"{'|   ' * depth}Feature {tree['feature_index']} <= {tree['threshold']}\")\n",
        "        print_tree(tree[\"left\"], depth + 1)\n",
        "        print_tree(tree[\"right\"], depth + 1)\n",
        "    else:\n",
        "        print(f\"{'|   ' * depth}Predict: {tree}\")\n",
        "\n",
        "print_tree(tree.tree)"
      ],
      "metadata": {
        "colab": {
          "base_uri": "https://localhost:8080/"
        },
        "id": "vRmmdi8XeX3q",
        "outputId": "20377daf-70f7-4e35-eb38-2be44730a505"
      },
      "execution_count": 9,
      "outputs": [
        {
          "output_type": "stream",
          "name": "stdout",
          "text": [
            "Feature 2 <= 1.9\n",
            "|   Predict: 0\n",
            "|   Feature 2 <= 4.7\n",
            "|   |   Feature 3 <= 1.6\n",
            "|   |   |   Predict: 1\n",
            "|   |   |   Predict: 2\n",
            "|   |   Feature 3 <= 1.7\n",
            "|   |   |   Feature 2 <= 4.9\n",
            "|   |   |   |   Predict: 1\n",
            "|   |   |   |   Feature 3 <= 1.5\n",
            "|   |   |   |   |   Predict: 2\n",
            "|   |   |   |   |   Predict: 1\n",
            "|   |   |   Feature 2 <= 4.8\n",
            "|   |   |   |   Feature 0 <= 5.9\n",
            "|   |   |   |   |   Predict: 1\n",
            "|   |   |   |   |   Predict: 2\n",
            "|   |   |   |   Predict: 2\n"
          ]
        }
      ]
    }
  ]
}